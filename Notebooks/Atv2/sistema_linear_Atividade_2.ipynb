{
  "nbformat": 4,
  "nbformat_minor": 0,
  "metadata": {
    "colab": {
      "provenance": []
    },
    "kernelspec": {
      "name": "python3",
      "display_name": "Python 3"
    },
    "language_info": {
      "name": "python"
    }
  },
  "cells": [
    {
      "cell_type": "markdown",
      "source": [
        "# Atividade da Disciplina Método númerico computacionais\n",
        "Sistemas lineares"
      ],
      "metadata": {
        "id": "zWBw6SXPVcVc"
      }
    },
    {
      "cell_type": "markdown",
      "source": [
        "## Importando Libs\n"
      ],
      "metadata": {
        "id": "1h-ayWGuVnYu"
      }
    },
    {
      "cell_type": "code",
      "source": [
        "# math\n",
        "import numpy as np\n",
        "from numpy.linalg import det\n",
        "# styles\n",
        "from termcolor import colored\n",
        "#text\n",
        "import re"
      ],
      "metadata": {
        "id": "PbFLnEirVart"
      },
      "execution_count": null,
      "outputs": []
    },
    {
      "cell_type": "markdown",
      "source": [
        "## Criando a função `LinearSystemClassify`"
      ],
      "metadata": {
        "id": "rSGYQrUnVcHL"
      }
    },
    {
      "cell_type": "code",
      "execution_count": null,
      "metadata": {
        "id": "EpfLMZUBVNEb"
      },
      "outputs": [],
      "source": [
        "def LinearSystemClassify(vecValue):\n",
        "\n",
        "  def title(text):\n",
        "    print(colored(text, 'cyan', attrs=['bold']))\n",
        "  def subtitle(text):\n",
        "    text = \"- \" + text\n",
        "    print(colored(text, 'cyan', attrs=['bold']))\n",
        "  def division(text):\n",
        "    print(colored(text, 'cyan', attrs=[\"underline\"]))\n",
        "\n",
        "  if isinstance(vecValue[0], list):\n",
        "    #setting variables\n",
        "    vecValue = np.array(vecValue) # full matrix vector values\n",
        "    lenVecValue = len(vecValue)  # size of full vetor\n",
        "    \n",
        "    # coefficient matrix\n",
        "    matrixCoef = np.delete(vecValue, lenVecValue-1, 0)\n",
        "\n",
        "    # independent term array\n",
        "    independentTerm = vecValue[lenVecValue-1] \n",
        "    \n",
        "    # Creating a matrixCoefx\n",
        "    \n",
        "    # adding size shape reference\n",
        "    matrixCoefx = np.array([independentTerm]) \n",
        "    \n",
        "    # adding respective column and line\n",
        "    for i in range(lenVecValue-1):\n",
        "      line = list()\n",
        "\n",
        "      for j in range(len(vecValue[i])):\n",
        "        #create line values\n",
        "\n",
        "        if(j == 0): \n",
        "          line.append(independentTerm[i]) # adding independent term how firs column in line\n",
        "        else:\n",
        "          line.append(matrixCoef[i][j]) # adding rest values\n",
        "              \n",
        "        if(j == len(vecValue[i])-1):\n",
        "          matrixCoefx = np.vstack([matrixCoefx,line]) #adding line to matrixCoefx  \n",
        "\n",
        "    #delete shape reference line\n",
        "    matrixCoefx = np.delete(matrixCoefx, 0, 0)\n",
        "  \n",
        "  if isinstance(vecValue[0], str): # if is string input\n",
        "\n",
        "    #matrixCoef;\n",
        "    independentTerm = list();\n",
        "\n",
        "    for i in range(len(vecValue)):\n",
        "      equation = i;\n",
        "\n",
        "\n",
        "      #removing spaces\n",
        "      spaceRemoved = re.sub(r\"\\s+\", \"\", vecValue[equation]) \n",
        "\n",
        "      # split coefficients and indepedent terms\n",
        "      splitText = re.split(r'([\\=])', spaceRemoved) \n",
        "\n",
        "      #get indenpent value in equation\n",
        "      independentTerm.append(eval(splitText[len(splitText) -1]))\n",
        "      \n",
        "\n",
        "      matrixCoefxMaker = re.split(r'([\\w])', splitText[0])\n",
        "      \n",
        "      line = list()\n",
        "      signal = 1;\n",
        "      number = False;\n",
        "      \n",
        "      for i in range(len(matrixCoefxMaker)):\n",
        "        if re.search(r\"([\\d,.])\",matrixCoefxMaker[i]):\n",
        "          if(number == False):\n",
        "            number = matrixCoefxMaker[i];\n",
        "          else:\n",
        "            number = number + matrixCoefxMaker[i]\n",
        "\n",
        "        elif (matrixCoefxMaker[i] == \"-\"):\n",
        "          #print(matrixCoefxMaker[i] + \" is minus\");\n",
        "          signal = -1;\n",
        "        \n",
        "        elif re.search(r\"([\\w])\",matrixCoefxMaker[i]):\n",
        "          #print(matrixCoefxMaker[i] + \" is world\");\n",
        "          if(type(number) != bool):\n",
        "            number = eval(number)\n",
        "\n",
        "            line.append(number*signal)\n",
        "            signal = 1;\n",
        "            number = False;   \n",
        "          \n",
        "          else: # number hidden\n",
        "            number = 1;\n",
        "\n",
        "            line.append(number*signal)\n",
        "            signal = 1;\n",
        "            number = False;  \n",
        "\n",
        "      if (equation == 0):\n",
        "        matrixCoef = np.array(line)  \n",
        "      \n",
        "      else:\n",
        "        matrixCoef = np.vstack([matrixCoef,line]) #adding line to matrixCoef  \n",
        "  \n",
        "\n",
        "\n",
        "  # adding size shape reference\n",
        "  matrixCoefx = np.array([independentTerm]) \n",
        "  \n",
        "  # adding respective column and line\n",
        "  for i in range(len(matrixCoef)):\n",
        "    line = list()\n",
        "\n",
        "    for j in range(len(independentTerm)):\n",
        "      #create line values\n",
        "\n",
        "      if(j == 0): \n",
        "        line.append(independentTerm[i]) # adding independent term how firs column in line\n",
        "      else:\n",
        "        line.append(matrixCoef[i][j]) # adding rest values\n",
        "            \n",
        "      if(j == len(independentTerm) -1):\n",
        "        matrixCoefx = np.vstack([matrixCoefx,line]) #adding line to matrixCoefx  \n",
        "\n",
        "  #delete shape reference line\n",
        "  matrixCoefx = np.delete(matrixCoefx, 0, 0)\n",
        "   \n",
        "  title(\"\\n----------LinearSytemClassify----------\\n\")\n",
        "  subtitle(\"Matriz dos coeficientes:\\n\")\n",
        "  print(matrixCoef)\n",
        "  division(\"                        \\n\")\n",
        "  subtitle(\"O termo independente é:\\n\")\n",
        "  print(independentTerm)\n",
        "  division(\"                         \\n\")\n",
        "  subtitle(\"Matriz para a variavel x:\\n\")\n",
        "  print(matrixCoefx)\n",
        "  division(\"                         \\n\")\n",
        "  \n",
        "  #solve Linear system\n",
        "  subtitle(\"Classificação:\\n\")\n",
        "  detMatrixCoef = np.linalg.det(matrixCoef)\n",
        "  detMatrixCoefx = np.linalg.det(matrixCoefx)\n",
        "\n",
        "  if detMatrixCoef !=0: \n",
        "    solve = np.linalg.solve(matrixCoef,independentTerm)  # solving linear system if is be possible and determined\n",
        "    print(\"SPD: Sistema Possivel Determinado,\\n sendo sua solução:\\n\", solve)\n",
        "\n",
        "  else:\n",
        "    if detMatrixCoef ==0 and detMatrixCoefx ==0:\n",
        "      print(\"SPI: Sistema Possivel e Indeterminado\")\n",
        "    else:\n",
        "      print(\"SI: Sistema Impossivel\")\n",
        "  title(\"\\n------------------//-------------------\\n\")"
      ]
    },
    {
      "cell_type": "markdown",
      "source": [
        "## Exercicios"
      ],
      "metadata": {
        "id": "gcsSR9bjVyRi"
      }
    },
    {
      "cell_type": "markdown",
      "source": [
        "$$\n",
        "1.\n",
        "\\begin{cases}\n",
        "2a-b=5 \\\\\n",
        "a-2b=10\n",
        "\\end{cases}\n",
        "$$"
      ],
      "metadata": {
        "id": "-wJag6J9WKEN"
      }
    },
    {
      "cell_type": "code",
      "source": [
        "LinearSystemClassify([\"2a-b=5\", \"4a-2b=10\"])"
      ],
      "metadata": {
        "colab": {
          "base_uri": "https://localhost:8080/"
        },
        "id": "BJILOV3YVwhY",
        "outputId": "4e288726-516a-4d32-9dcc-5b518512a2a3"
      },
      "execution_count": null,
      "outputs": [
        {
          "output_type": "stream",
          "name": "stdout",
          "text": [
            "\u001b[1m\u001b[36m\n",
            "----------LinearSytemClassify----------\n",
            "\u001b[0m\n",
            "\u001b[1m\u001b[36m- Matriz dos coeficientes:\n",
            "\u001b[0m\n",
            "[[ 2 -1]\n",
            " [ 4 -2]]\n",
            "\u001b[4m\u001b[36m                        \n",
            "\u001b[0m\n",
            "\u001b[1m\u001b[36m- O termo independente é:\n",
            "\u001b[0m\n",
            "[5, 10]\n",
            "\u001b[4m\u001b[36m                         \n",
            "\u001b[0m\n",
            "\u001b[1m\u001b[36m- Matriz para a variavel x:\n",
            "\u001b[0m\n",
            "[[ 5 -1]\n",
            " [10 -2]]\n",
            "\u001b[4m\u001b[36m                         \n",
            "\u001b[0m\n",
            "\u001b[1m\u001b[36m- Classificação:\n",
            "\u001b[0m\n",
            "SPI: Sistema Possivel e Indeterminado\n",
            "\u001b[1m\u001b[36m\n",
            "------------------//-------------------\n",
            "\u001b[0m\n"
          ]
        }
      ]
    },
    {
      "cell_type": "markdown",
      "source": [
        "2. Escreva a equação do sistema associada à matriz dada. Resolver o sistema.\n",
        "\n",
        "$$\n",
        "\\begin{bmatrix}\n",
        "-4 & 1 &  0 \\\\\n",
        "3  & 5 & -2 \\\\\n",
        "1  & 0 &  6 \\\\\n",
        "\\end{bmatrix}.\\begin{bmatrix}\n",
        "m  \\\\\n",
        "n  \\\\\n",
        "p  \\\\\n",
        "\\end{bmatrix} = \\begin{bmatrix}\n",
        "1  \\\\\n",
        "2  \\\\\n",
        "3  \\\\\n",
        "\\end{bmatrix}\n",
        "$$"
      ],
      "metadata": {
        "id": "4UHDYeo-XDB0"
      }
    },
    {
      "cell_type": "markdown",
      "source": [
        "A matiz é associda ao sistema linear:\n",
        "\n",
        "$$\n",
        "\\begin{cases}\n",
        "-4m+1n=1 \\\\\n",
        "3m+5n-2p=2 \\\\\n",
        "m+6p=3\n",
        "\\end{cases}\n",
        "$$"
      ],
      "metadata": {
        "id": "YToCb0XQZILR"
      }
    },
    {
      "cell_type": "code",
      "source": [
        "LinearSystemClassify([\"-4m+1n+0p=1\", \"3m+5n-2p=2\", \"m-0n+6p=3\"])"
      ],
      "metadata": {
        "colab": {
          "base_uri": "https://localhost:8080/"
        },
        "id": "T7xSW5lmYgAq",
        "outputId": "be8a148d-5e4c-4404-dcb4-c63ca2d56120"
      },
      "execution_count": null,
      "outputs": [
        {
          "output_type": "stream",
          "name": "stdout",
          "text": [
            "\u001b[1m\u001b[36m\n",
            "----------LinearSytemClassify----------\n",
            "\u001b[0m\n",
            "\u001b[1m\u001b[36m- Matriz dos coeficientes:\n",
            "\u001b[0m\n",
            "[[-4  1  0]\n",
            " [ 3  5 -2]\n",
            " [ 1  0  6]]\n",
            "\u001b[4m\u001b[36m                        \n",
            "\u001b[0m\n",
            "\u001b[1m\u001b[36m- O termo independente é:\n",
            "\u001b[0m\n",
            "[1, 2, 3]\n",
            "\u001b[4m\u001b[36m                         \n",
            "\u001b[0m\n",
            "\u001b[1m\u001b[36m- Matriz para a variavel x:\n",
            "\u001b[0m\n",
            "[[ 1  1  0]\n",
            " [ 2  5 -2]\n",
            " [ 3  0  6]]\n",
            "\u001b[4m\u001b[36m                         \n",
            "\u001b[0m\n",
            "\u001b[1m\u001b[36m- Classificação:\n",
            "\u001b[0m\n",
            "SPD: Sistema Possivel Determinado,\n",
            " sendo sua solução:\n",
            " [-0.08571429  0.65714286  0.51428571]\n",
            "\u001b[1m\u001b[36m\n",
            "------------------//-------------------\n",
            "\u001b[0m\n"
          ]
        }
      ]
    },
    {
      "cell_type": "markdown",
      "source": [
        "Resolver por escalonamento\n",
        "\n",
        "$$\n",
        "\\begin{cases}\n",
        "x+2y+4z=5 \\\\\n",
        "2x-y-2z=8 \\\\\n",
        "3x-3y-z=7\n",
        "\\end{cases}\n",
        "$$"
      ],
      "metadata": {
        "id": "gaxCkk1uY6e3"
      }
    },
    {
      "cell_type": "markdown",
      "source": [
        "$$\n",
        "\\begin{bmatrix}\n",
        "1 &  2 &  4 \\\\\n",
        "2 & -1 &  2 \\\\\n",
        "3 & -3 & -1 \\\\\n",
        "\\end{bmatrix}.\\begin{bmatrix}\n",
        "x  \\\\\n",
        "y  \\\\\n",
        "z  \\\\\n",
        "\\end{bmatrix} = \\begin{bmatrix}\n",
        "5  \\\\\n",
        "8  \\\\\n",
        "7  \\\\\n",
        "\\end{bmatrix}\n",
        "$$"
      ],
      "metadata": {
        "id": "_YEcmqxUbpo-"
      }
    },
    {
      "cell_type": "code",
      "source": [
        "LinearSystemClassify([[1,2,4], [2,-1,2], [3, -3, -1], [5,8,7]])"
      ],
      "metadata": {
        "colab": {
          "base_uri": "https://localhost:8080/"
        },
        "id": "ldPQfYJVbpFr",
        "outputId": "eeae9803-d2ee-4cb3-d360-e9e8f6348f30"
      },
      "execution_count": null,
      "outputs": [
        {
          "output_type": "stream",
          "name": "stdout",
          "text": [
            "\u001b[1m\u001b[36m\n",
            "----------LinearSytemClassify----------\n",
            "\u001b[0m\n",
            "\u001b[1m\u001b[36m- Matriz dos coeficientes:\n",
            "\u001b[0m\n",
            "[[ 1  2  4]\n",
            " [ 2 -1  2]\n",
            " [ 3 -3 -1]]\n",
            "\u001b[4m\u001b[36m                        \n",
            "\u001b[0m\n",
            "\u001b[1m\u001b[36m- O termo independente é:\n",
            "\u001b[0m\n",
            "[5 8 7]\n",
            "\u001b[4m\u001b[36m                         \n",
            "\u001b[0m\n",
            "\u001b[1m\u001b[36m- Matriz para a variavel x:\n",
            "\u001b[0m\n",
            "[[ 5  2  4]\n",
            " [ 8 -1  2]\n",
            " [ 7 -3 -1]]\n",
            "\u001b[4m\u001b[36m                         \n",
            "\u001b[0m\n",
            "\u001b[1m\u001b[36m- Classificação:\n",
            "\u001b[0m\n",
            "SPD: Sistema Possivel Determinado,\n",
            " sendo sua solução:\n",
            " [ 1. -2.  2.]\n",
            "\u001b[1m\u001b[36m\n",
            "------------------//-------------------\n",
            "\u001b[0m\n"
          ]
        }
      ]
    },
    {
      "cell_type": "markdown",
      "source": [
        "Resolver o sistema\n",
        "\n",
        "$$\n",
        "\\begin{cases}\n",
        "x+2y-z=8  \\\\\n",
        "2x+3y+z=1 \\\\\n",
        "5x+3y-2z=-11\n",
        "\\end{cases}\n",
        "$$"
      ],
      "metadata": {
        "id": "AQpqDgRydKm3"
      }
    },
    {
      "cell_type": "code",
      "source": [
        "LinearSystemClassify([\"x+2y-z=8\", \"2x+3y+z=1\", \"5x+3y-2z=-11\"])"
      ],
      "metadata": {
        "colab": {
          "base_uri": "https://localhost:8080/"
        },
        "id": "QIOSqa9BdnaH",
        "outputId": "6dbac9b2-01c0-4154-bdba-bf5e883324e8"
      },
      "execution_count": null,
      "outputs": [
        {
          "output_type": "stream",
          "name": "stdout",
          "text": [
            "\u001b[1m\u001b[36m\n",
            "----------LinearSytemClassify----------\n",
            "\u001b[0m\n",
            "\u001b[1m\u001b[36m- Matriz dos coeficientes:\n",
            "\u001b[0m\n",
            "[[ 1  2 -1]\n",
            " [ 2  3  1]\n",
            " [ 5  3 -2]]\n",
            "\u001b[4m\u001b[36m                        \n",
            "\u001b[0m\n",
            "\u001b[1m\u001b[36m- O termo independente é:\n",
            "\u001b[0m\n",
            "[8, 1, -11]\n",
            "\u001b[4m\u001b[36m                         \n",
            "\u001b[0m\n",
            "\u001b[1m\u001b[36m- Matriz para a variavel x:\n",
            "\u001b[0m\n",
            "[[  8   2  -1]\n",
            " [  1   3   1]\n",
            " [-11   3  -2]]\n",
            "\u001b[4m\u001b[36m                         \n",
            "\u001b[0m\n",
            "\u001b[1m\u001b[36m- Classificação:\n",
            "\u001b[0m\n",
            "SPD: Sistema Possivel Determinado,\n",
            " sendo sua solução:\n",
            " [-7.  6. -3.]\n",
            "\u001b[1m\u001b[36m\n",
            "------------------//-------------------\n",
            "\u001b[0m\n"
          ]
        }
      ]
    },
    {
      "cell_type": "markdown",
      "source": [
        "5.Um clube de investimento tem um\n",
        "montante em dinheiro para investimentos\n",
        "em ações.\n",
        "\n",
        "Para aceitar um risco relativo, os formadores do\n",
        "fundo decidiram dividir os investimentos em\n",
        "**alto risco (x)**, **médio risco (y)** e **baixo risco (z)**.\n",
        "\n",
        "O fundo estima um retorno ao ano de **15% para\n",
        "ações de alto risco**, **10% para ações de médio\n",
        "risco** e **6% para ações de baixo risco**.\n",
        "\n",
        "Os membros decidiram que\n",
        "investimentos de **baixo risco** devem ser\n",
        "igual a soma das outras duas categorias.\n",
        "\n",
        "Determinar quanto o clube deve investir em cada\n",
        "tipo de ação seguindo o seguinte cenário:\n",
        "\n",
        "O clube tem **R$ 200.000,00** para investir.\n",
        "\n",
        "O objetivo é ter um retorno de **R$ 20.000,00** ao ano\n",
        "sobre o total de investimentos."
      ],
      "metadata": {
        "id": "LJe_6BGzeFnq"
      }
    },
    {
      "cell_type": "markdown",
      "source": [
        " - 15% = 0.15 -> x\n",
        " - 10% = 0.1 -> y\n",
        " - 6% = 0.06 -> z\n",
        "\n",
        " $$\n",
        " \\begin{cases}\n",
        " 0.15x+0.1y+0.6z=20000 \\\\\n",
        " x+y-z+0 \\\\\n",
        " X+Y+z=200000\n",
        " \\end{cases}\n",
        " $$"
      ],
      "metadata": {
        "id": "yVqLSMfJewbI"
      }
    },
    {
      "cell_type": "code",
      "source": [
        "LinearSystemClassify([\"0.15x+0.1y+0.6z=20000\", \"x+y-z=0\", \"x+y+z=200000\"])"
      ],
      "metadata": {
        "colab": {
          "base_uri": "https://localhost:8080/"
        },
        "id": "QzfwO2A1emYf",
        "outputId": "664f9c57-2860-43b2-c254-3faad94792cc"
      },
      "execution_count": null,
      "outputs": [
        {
          "output_type": "stream",
          "name": "stdout",
          "text": [
            "\u001b[1m\u001b[36m\n",
            "----------LinearSytemClassify----------\n",
            "\u001b[0m\n",
            "\u001b[1m\u001b[36m- Matriz dos coeficientes:\n",
            "\u001b[0m\n",
            "[[ 0.15  0.1   0.6 ]\n",
            " [ 1.    1.   -1.  ]\n",
            " [ 1.    1.    1.  ]]\n",
            "\u001b[4m\u001b[36m                        \n",
            "\u001b[0m\n",
            "\u001b[1m\u001b[36m- O termo independente é:\n",
            "\u001b[0m\n",
            "[20000, 0, 200000]\n",
            "\u001b[4m\u001b[36m                         \n",
            "\u001b[0m\n",
            "\u001b[1m\u001b[36m- Matriz para a variavel x:\n",
            "\u001b[0m\n",
            "[[ 2.e+04  1.e-01  6.e-01]\n",
            " [ 0.e+00  1.e+00 -1.e+00]\n",
            " [ 2.e+05  1.e+00  1.e+00]]\n",
            "\u001b[4m\u001b[36m                         \n",
            "\u001b[0m\n",
            "\u001b[1m\u001b[36m- Classificação:\n",
            "\u001b[0m\n",
            "SPD: Sistema Possivel Determinado,\n",
            " sendo sua solução:\n",
            " [-1000000.  1100000.   100000.]\n",
            "\u001b[1m\u001b[36m\n",
            "------------------//-------------------\n",
            "\u001b[0m\n"
          ]
        }
      ]
    },
    {
      "cell_type": "markdown",
      "source": [
        "- **-1000000** é a quantidade para o ser investido a X(*alto risco*)\n",
        "- **1100000** é a quantidade para o ser investido a Y(*Médio risco*)\n",
        "- **100000** é a quantidade para o ser investido a **Z**(*baixo risco*)\n",
        "\n"
      ],
      "metadata": {
        "id": "P8vWL0XjtPdM"
      }
    }
  ]
}