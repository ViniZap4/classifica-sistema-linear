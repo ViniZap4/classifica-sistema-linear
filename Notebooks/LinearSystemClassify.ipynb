{
  "cells": [
    {
      "cell_type": "markdown",
      "metadata": {
        "id": "CKNWGMa5foWj"
      },
      "source": [
        "# LinearSystemClassify"
      ]
    },
    {
      "cell_type": "markdown",
      "metadata": {
        "id": "NXbDqLmefkYX"
      },
      "source": [
        "## importando libs"
      ]
    },
    {
      "cell_type": "code",
      "execution_count": 3,
      "metadata": {
        "id": "u7awRn03fcGa"
      },
      "outputs": [],
      "source": [
        "# math\n",
        "import numpy as np\n",
        "from numpy.linalg import det\n",
        "# styles\n",
        "from termcolor import colored"
      ]
    },
    {
      "cell_type": "markdown",
      "metadata": {
        "id": "VlPItR89f4tp"
      },
      "source": [
        "## Criando funções stilizadas"
      ]
    },
    {
      "cell_type": "code",
      "execution_count": 5,
      "metadata": {
        "id": "H6tq80KRf-1l"
      },
      "outputs": [],
      "source": [
        "def title(text):\n",
        "  print(colored(text, 'cyan', attrs=['bold']))\n",
        "def subtitle(text):\n",
        "  text = \"- \" + text\n",
        "  print(colored(text, 'cyan', attrs=['bold']))\n",
        "def division(text):\n",
        "  print(colored(text, 'cyan', attrs=[\"underline\"]))"
      ]
    },
    {
      "cell_type": "markdown",
      "metadata": {
        "id": "K1V_FRjDfsgu"
      },
      "source": [
        "## Criando a função `LinearSystemClassify`\n",
        "\n",
        "Essa função classifica os sistema lineares se é:\n",
        "\n",
        "- **SPD** (*Sistema Possível Determinado*)\n",
        "- **SPI** (*Sistema Possível e Indeterminado*)\n",
        "- **SI** (*Sistema Impossível*)\n",
        "\n",
        "E recebe como parametro um array, contendo os valores dos coeficientes e dos termos indenpedentes e a própria função separa os termos e gera as matrizes respectivas para a classificação. caso o sistema linear for **SPD**, ele irá mostrar a solução do mesmo.  "
      ]
    },
    {
      "cell_type": "code",
      "execution_count": 8,
      "metadata": {
        "id": "xdcIHLg2fxRQ"
      },
      "outputs": [],
      "source": [
        "def LinearSystemClassify(vecValue):\n",
        "  \n",
        "  #setting variables\n",
        "  vecValue = np.array(vecValue) # full matrix vector values\n",
        "  lenVecValue = len(vecValue)  # size of full vetor\n",
        "  \n",
        "  # matrix of coefficient\n",
        "  matrixCoef = np.delete(vecValue, lenVecValue-1, 0)\n",
        "\n",
        "  # independent term array\n",
        "  independentTerm = vecValue[lenVecValue-1] \n",
        "  \n",
        "  # Creating a matrixCoefx\n",
        "  \n",
        "  # adding size shape reference\n",
        "  matrixCoefx = np.array([independentTerm]) \n",
        "  \n",
        "  # adding respective column and line\n",
        "  for i in range(lenVecValue-1):\n",
        "     line = list()\n",
        "\n",
        "     for j in range(len(vecValue[i])):\n",
        "       #create line values\n",
        "\n",
        "       if(j == 0): \n",
        "        line.append(independentTerm[i]) # adding independent term how firs column in line\n",
        "       else:\n",
        "         line.append(matrixCoef[i][j]) # adding rest values\n",
        "            \n",
        "       if(j == len(vecValue[i])-1):\n",
        "         matrixCoefx = np.vstack([matrixCoefx,line]) #adding line to matrixCoefx  \n",
        "\n",
        "  #delete shape reference line\n",
        "  matrixCoefx = np.delete(matrixCoefx, 0, 0)\n",
        "\n",
        "\n",
        "  \n",
        "  title(\"\\n----------LinearSytemClassify----------\\n\")\n",
        "  subtitle(\"Matriz dos coeficientes:\\n\")\n",
        "  print(matrixCoef)\n",
        "  division(\"                        \\n\")\n",
        "  subtitle(\"O termo independente é:\\n\")\n",
        "  print(independentTerm)\n",
        "  division(\"                         \\n\")\n",
        "  subtitle(\"Matriz para a variavel x:\\n\")\n",
        "  print(matrixCoefx)\n",
        "  division(\"                         \\n\")\n",
        "  \n",
        "  #solve Linear system\n",
        "  subtitle(\"Classificação:\\n\")\n",
        "  detMatrixCoef = np.linalg.det(matrixCoef)\n",
        "  detMatrixCoefx = np.linalg.det(matrixCoefx)\n",
        "\n",
        "  if detMatrixCoef !=0: \n",
        "    solve = np.linalg.solve(matrixCoef,independentTerm)  # solving linear sytem if will be possible and determined\n",
        "    print(\"SPD: Sistema Possivel Determinado,\\n sendo sua solução:\\n\\n\", solve)\n",
        "\n",
        "  else:\n",
        "    if detMatrixCoef ==0 and detMatrixCoefx ==0:\n",
        "      print(\"SPI: Sistema Possivel e Indeterminado\")\n",
        "    else:\n",
        "      print(\"SI: Sistema Impossivel\")\n",
        "  title(\"\\n------------------//-------------------\\n\")"
      ]
    },
    {
      "cell_type": "markdown",
      "metadata": {
        "id": "LDcZMXEEgE9-"
      },
      "source": [
        "## Exemplo de uso\n",
        "\n",
        "$$\n",
        "\\begin{cases}\n",
        "2x-y=7   \\\\ \n",
        "x+5y=-2 \n",
        "\\end{cases}\n",
        "$$\n",
        "\n",
        "basta separar os coeficientes das equações e os termos independentes:\n",
        "\n",
        "$$\n",
        "\\begin{matrix}\n",
        "1. [2 & -1]  \\\\\n",
        "2. [1 & 5]   \\\\\n",
        "\\end{matrix}\n",
        "\\quad 3.\\begin{bmatrix}\n",
        "7   \\\\\n",
        "-2   \\\\\n",
        "\\end{bmatrix}\n",
        "$$\n",
        "\n",
        "e colocar no como parametro em um formato de array.\n",
        "\n",
        ">**Lembrando que os termos termos independentes sempre serão adicionados por ultimo.**\n",
        "\n",
        "```\n",
        "# LinearSystemClassify([coeficientes da equação 1, coeficientes da equação 2, termos independentes(3)])\n",
        "```"
      ]
    },
    {
      "cell_type": "code",
      "execution_count": 10,
      "metadata": {
        "colab": {
          "base_uri": "https://localhost:8080/"
        },
        "id": "we_KivJ-kmDJ",
        "outputId": "4a2baf91-dbf2-43e2-966b-4f314cb77a2d"
      },
      "outputs": [
        {
          "name": "stdout",
          "output_type": "stream",
          "text": [
            "\u001b[1m\u001b[36m\n",
            "----------LinearSytemClassify----------\n",
            "\u001b[0m\n",
            "\u001b[1m\u001b[36m- Matriz dos coeficientes:\n",
            "\u001b[0m\n",
            "[[ 2 -1]\n",
            " [ 1  5]]\n",
            "\u001b[4m\u001b[36m                        \n",
            "\u001b[0m\n",
            "\u001b[1m\u001b[36m- O termo independente é:\n",
            "\u001b[0m\n",
            "[ 7 -5]\n",
            "\u001b[4m\u001b[36m                         \n",
            "\u001b[0m\n",
            "\u001b[1m\u001b[36m- Matriz para a variavel x:\n",
            "\u001b[0m\n",
            "[[ 7 -1]\n",
            " [-5  5]]\n",
            "\u001b[4m\u001b[36m                         \n",
            "\u001b[0m\n",
            "\u001b[1m\u001b[36m- Classificação:\n",
            "\u001b[0m\n",
            "SPD: Sistema Possivel Determinado,\n",
            " sendo sua solução:\n",
            "\n",
            " [ 2.72727273 -1.54545455]\n",
            "\u001b[1m\u001b[36m\n",
            "------------------//-------------------\n",
            "\u001b[0m\n"
          ]
        }
      ],
      "source": [
        "LinearSystemClassify([[2,-1],[1,5],[7,-5]])\n"
      ]
    }
  ],
  "metadata": {
    "colab": {
      "provenance": []
    },
    "kernelspec": {
      "display_name": "Python 3",
      "name": "python3"
    },
    "language_info": {
      "name": "python"
    }
  },
  "nbformat": 4,
  "nbformat_minor": 0
}
