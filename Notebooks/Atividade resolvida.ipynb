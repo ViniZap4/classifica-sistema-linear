{
  "cells": [
    {
      "cell_type": "markdown",
      "metadata": {
        "id": "6-UO8E3Yq_yJ"
      },
      "source": [
        "# Atividade da Disciplina Método númerico computacionais\n",
        "\n",
        "## Sistemas lineares\n",
        "\n",
        "Resolver e classificar cada sistema linear em **_SPD_**, **_SPI_** , **_SI_**"
      ]
    },
    {
      "cell_type": "markdown",
      "metadata": {
        "id": "OAKw63bve5am"
      },
      "source": [
        "## Importando Libs\n",
        "\n",
        "\n",
        "\n",
        "\n"
      ]
    },
    {
      "cell_type": "code",
      "execution_count": 123,
      "metadata": {
        "id": "01dF7dqNfK_-"
      },
      "outputs": [],
      "source": [
        "# math\n",
        "import numpy as np\n",
        "from numpy.linalg import det\n",
        "# styles\n",
        "from termcolor import colored"
      ]
    },
    {
      "cell_type": "markdown",
      "metadata": {
        "id": "w6fBFugAZpRN"
      },
      "source": [
        "## Funções para estilização"
      ]
    },
    {
      "cell_type": "code",
      "execution_count": 124,
      "metadata": {
        "id": "BIIKpO3NZlqs"
      },
      "outputs": [],
      "source": [
        "def title(text):\n",
        "  print(colored(text, 'cyan', attrs=['bold']))\n",
        "def subtitle(text):\n",
        "  text = \"- \" + text\n",
        "  print(colored(text, 'cyan', attrs=['bold']))\n",
        "def division(text):\n",
        "  print(colored(text, 'cyan', attrs=[\"underline\"]))"
      ]
    },
    {
      "cell_type": "markdown",
      "metadata": {
        "id": "D8X9c2K6fbHn"
      },
      "source": [
        "## Criando a função `LinearSystemClassify`\n",
        "\n",
        "Essa função classifica os sistema lineares se é:\n",
        "\n",
        "- **SPD** (*Sistema Possível Determinado*)\n",
        "- **SPI** (*Sistema Possível e Indeterminado*)\n",
        "- **SI** (*Sistema Impossível*)\n",
        "\n",
        "E recebe como parametro um array, contendo os valores dos coeficientes e dos termos indenpedentes e a própria função separa os termos e gera as matrizes respectivas para a classificação. caso o sistema linear for **SPD**, ele irá mostrar a solução do mesmo.  "
      ]
    },
    {
      "cell_type": "code",
      "execution_count": 125,
      "metadata": {
        "id": "cHq33aP6fjJK"
      },
      "outputs": [],
      "source": [
        "def LinearSystemClassify(vecValue):\n",
        "  \n",
        "  #setting variables\n",
        "  vecValue = np.array(vecValue) # full matrix vector values\n",
        "  lenVecValue = len(vecValue)  # size of full vetor\n",
        "  \n",
        "  # coefficient matrix\n",
        "  matrixCoef = np.delete(vecValue, lenVecValue-1, 0)\n",
        "\n",
        "  # independent term array\n",
        "  independentTerm = vecValue[lenVecValue-1] \n",
        "  \n",
        "  # Creating a matrixCoefx\n",
        "  \n",
        "  # adding size shape reference\n",
        "  matrixCoefx = np.array([independentTerm]) \n",
        "  \n",
        "  # adding respective column and line\n",
        "  for i in range(lenVecValue-1):\n",
        "     line = list()\n",
        "\n",
        "     for j in range(len(vecValue[i])):\n",
        "       #create line values\n",
        "\n",
        "       if(j == 0): \n",
        "        line.append(independentTerm[i]) # adding independent term how firs column in line\n",
        "       else:\n",
        "         line.append(matrixCoef[i][j]) # adding rest values\n",
        "            \n",
        "       if(j == len(vecValue[i])-1):\n",
        "         matrixCoefx = np.vstack([matrixCoefx,line]) #adding line to matrixCoefx  \n",
        "\n",
        "  #delete shape reference line\n",
        "  matrixCoefx = np.delete(matrixCoefx, 0, 0)\n",
        "\n",
        "\n",
        "  \n",
        "  title(\"\\n----------LinearSytemClassify----------\\n\")\n",
        "  subtitle(\"Matriz dos coeficientes:\\n\")\n",
        "  print(matrixCoef)\n",
        "  division(\"                        \\n\")\n",
        "  subtitle(\"O termo independente é:\\n\")\n",
        "  print(independentTerm)\n",
        "  division(\"                         \\n\")\n",
        "  subtitle(\"Matriz para a variavel x:\\n\")\n",
        "  print(matrixCoefx)\n",
        "  division(\"                         \\n\")\n",
        "  \n",
        "  #solve Linear system\n",
        "  subtitle(\"Classificação:\\n\")\n",
        "  detMatrixCoef = np.linalg.det(matrixCoef)\n",
        "  detMatrixCoefx = np.linalg.det(matrixCoefx)\n",
        "\n",
        "  if detMatrixCoef !=0: \n",
        "    solve = np.linalg.solve(matrixCoef,independentTerm)  # solving linear sytem if will be possible and determined\n",
        "    print(\"SPD: Sistema Possivel Determinado,\\n sendo sua solução:\\n\", solve)\n",
        "\n",
        "  else:\n",
        "    if detMatrixCoef ==0 and detMatrixCoefx ==0:\n",
        "      print(\"SPI: Sistema Possivel e Indeterminado\")\n",
        "    else:\n",
        "      print(\"SI: Sistema Impossivel\")\n",
        "  title(\"\\n------------------//-------------------\\n\")"
      ]
    },
    {
      "cell_type": "markdown",
      "metadata": {
        "id": "Ushhc1mkvKfZ"
      },
      "source": [
        "## Exercicios"
      ]
    },
    {
      "cell_type": "markdown",
      "metadata": {
        "id": "VACZfUzxvO0h"
      },
      "source": [
        "$$\n",
        "1. \n",
        "\\begin{cases}\n",
        "2x-y=7 \\\\\n",
        "x+5y=-2\n",
        "\\end{cases}\n",
        "$$"
      ]
    },
    {
      "cell_type": "code",
      "execution_count": 126,
      "metadata": {
        "colab": {
          "base_uri": "https://localhost:8080/"
        },
        "id": "SCrn82U5w0rc",
        "outputId": "e808626f-5a3d-468d-9b61-c03c32d76982"
      },
      "outputs": [
        {
          "name": "stdout",
          "output_type": "stream",
          "text": [
            "\u001b[1m\u001b[36m\n",
            "----------LinearSytemClassify----------\n",
            "\u001b[0m\n",
            "\u001b[1m\u001b[36m- Matriz dos coeficientes:\n",
            "\u001b[0m\n",
            "[[ 2 -1]\n",
            " [ 1  5]]\n",
            "\u001b[4m\u001b[36m                        \n",
            "\u001b[0m\n",
            "\u001b[1m\u001b[36m- O termo independente é:\n",
            "\u001b[0m\n",
            "[ 7 -2]\n",
            "\u001b[4m\u001b[36m                         \n",
            "\u001b[0m\n",
            "\u001b[1m\u001b[36m- Matriz para a variavel x:\n",
            "\u001b[0m\n",
            "[[ 7 -1]\n",
            " [-2  5]]\n",
            "\u001b[4m\u001b[36m                         \n",
            "\u001b[0m\n",
            "\u001b[1m\u001b[36m- Classificação:\n",
            "\u001b[0m\n",
            "SPD: Sistema Possivel Determinado,\n",
            " sendo sua solução:\n",
            " [ 3. -1.]\n",
            "\u001b[1m\u001b[36m\n",
            "------------------//-------------------\n",
            "\u001b[0m\n"
          ]
        }
      ],
      "source": [
        "LinearSystemClassify([[2,-1],[1,5],[7,-2]])"
      ]
    },
    {
      "cell_type": "markdown",
      "metadata": {
        "id": "pMmZlWhnxGrY"
      },
      "source": [
        "$$\n",
        "2.\n",
        "\\begin{cases}\n",
        "x+2y -z =0 \\\\\n",
        "3x-4y+5z=10 \\\\\n",
        "x+y+9z=1 \n",
        "\\end{cases}\n",
        "$$"
      ]
    },
    {
      "cell_type": "code",
      "execution_count": 127,
      "metadata": {
        "colab": {
          "base_uri": "https://localhost:8080/"
        },
        "id": "DGvoh4pYxFo6",
        "outputId": "a662998b-e737-4453-c165-e464af94cd55"
      },
      "outputs": [
        {
          "name": "stdout",
          "output_type": "stream",
          "text": [
            "\u001b[1m\u001b[36m\n",
            "----------LinearSytemClassify----------\n",
            "\u001b[0m\n",
            "\u001b[1m\u001b[36m- Matriz dos coeficientes:\n",
            "\u001b[0m\n",
            "[[ 1  2 -1]\n",
            " [ 3 -4  5]\n",
            " [ 1  1  9]]\n",
            "\u001b[4m\u001b[36m                        \n",
            "\u001b[0m\n",
            "\u001b[1m\u001b[36m- O termo independente é:\n",
            "\u001b[0m\n",
            "[ 0 10  1]\n",
            "\u001b[4m\u001b[36m                         \n",
            "\u001b[0m\n",
            "\u001b[1m\u001b[36m- Matriz para a variavel x:\n",
            "\u001b[0m\n",
            "[[ 0  2 -1]\n",
            " [10 -4  5]\n",
            " [ 1  1  9]]\n",
            "\u001b[4m\u001b[36m                         \n",
            "\u001b[0m\n",
            "\u001b[1m\u001b[36m- Classificação:\n",
            "\u001b[0m\n",
            "SPD: Sistema Possivel Determinado,\n",
            " sendo sua solução:\n",
            " [ 2.00000000e+00 -1.00000000e+00  4.82705663e-17]\n",
            "\u001b[1m\u001b[36m\n",
            "------------------//-------------------\n",
            "\u001b[0m\n"
          ]
        }
      ],
      "source": [
        "LinearSystemClassify([[1,2,-1],[3,-4,5],[1,1,9],[0,10,1]])"
      ]
    },
    {
      "cell_type": "markdown",
      "metadata": {
        "id": "SrzJdfJ8x1g4"
      },
      "source": [
        "$$\n",
        "3.\n",
        "\\begin{cases}\n",
        "x+2y=5 \\\\\n",
        "2x-3y=-4\n",
        "\\end{cases}\n",
        "$$"
      ]
    },
    {
      "cell_type": "code",
      "execution_count": 128,
      "metadata": {
        "colab": {
          "base_uri": "https://localhost:8080/"
        },
        "id": "l71o-j49yMuE",
        "outputId": "e78e50e2-a1cc-4127-fb12-33fd2a08a3a6"
      },
      "outputs": [
        {
          "name": "stdout",
          "output_type": "stream",
          "text": [
            "\u001b[1m\u001b[36m\n",
            "----------LinearSytemClassify----------\n",
            "\u001b[0m\n",
            "\u001b[1m\u001b[36m- Matriz dos coeficientes:\n",
            "\u001b[0m\n",
            "[[ 1  2]\n",
            " [ 2 -3]]\n",
            "\u001b[4m\u001b[36m                        \n",
            "\u001b[0m\n",
            "\u001b[1m\u001b[36m- O termo independente é:\n",
            "\u001b[0m\n",
            "[ 5 -4]\n",
            "\u001b[4m\u001b[36m                         \n",
            "\u001b[0m\n",
            "\u001b[1m\u001b[36m- Matriz para a variavel x:\n",
            "\u001b[0m\n",
            "[[ 5  2]\n",
            " [-4 -3]]\n",
            "\u001b[4m\u001b[36m                         \n",
            "\u001b[0m\n",
            "\u001b[1m\u001b[36m- Classificação:\n",
            "\u001b[0m\n",
            "SPD: Sistema Possivel Determinado,\n",
            " sendo sua solução:\n",
            " [1. 2.]\n",
            "\u001b[1m\u001b[36m\n",
            "------------------//-------------------\n",
            "\u001b[0m\n"
          ]
        }
      ],
      "source": [
        "LinearSystemClassify([[1,2],[2,-3],[5,-4]])"
      ]
    },
    {
      "cell_type": "markdown",
      "metadata": {
        "id": "Q0timYvQ1CYw"
      },
      "source": [
        "$$\n",
        "4.\n",
        "\\begin{cases}\n",
        "x+y=5 \\\\\n",
        "2x+2y=10\n",
        "\\end{cases}\n",
        "$$"
      ]
    },
    {
      "cell_type": "code",
      "execution_count": 129,
      "metadata": {
        "colab": {
          "base_uri": "https://localhost:8080/"
        },
        "id": "3LOT83gF1MSN",
        "outputId": "837d00be-7850-4ffe-9f16-0672394d4268"
      },
      "outputs": [
        {
          "name": "stdout",
          "output_type": "stream",
          "text": [
            "\u001b[1m\u001b[36m\n",
            "----------LinearSytemClassify----------\n",
            "\u001b[0m\n",
            "\u001b[1m\u001b[36m- Matriz dos coeficientes:\n",
            "\u001b[0m\n",
            "[[1 1]\n",
            " [2 2]]\n",
            "\u001b[4m\u001b[36m                        \n",
            "\u001b[0m\n",
            "\u001b[1m\u001b[36m- O termo independente é:\n",
            "\u001b[0m\n",
            "[ 5 10]\n",
            "\u001b[4m\u001b[36m                         \n",
            "\u001b[0m\n",
            "\u001b[1m\u001b[36m- Matriz para a variavel x:\n",
            "\u001b[0m\n",
            "[[ 5  1]\n",
            " [10  2]]\n",
            "\u001b[4m\u001b[36m                         \n",
            "\u001b[0m\n",
            "\u001b[1m\u001b[36m- Classificação:\n",
            "\u001b[0m\n",
            "SPI: Sistema Possivel e Indeterminado\n",
            "\u001b[1m\u001b[36m\n",
            "------------------//-------------------\n",
            "\u001b[0m\n"
          ]
        }
      ],
      "source": [
        "LinearSystemClassify([[1,1],[2,2],[5,10]])"
      ]
    },
    {
      "cell_type": "markdown",
      "metadata": {
        "id": "sFjs01xz1ZHK"
      },
      "source": [
        "$$\n",
        "5.\n",
        "\\begin{cases}\n",
        "2a-b+c=3 \\\\\n",
        "a-b+2c=3 \\\\\n",
        "a+b+c=6\n",
        "\\end{cases}\n",
        "$$"
      ]
    },
    {
      "cell_type": "code",
      "execution_count": 130,
      "metadata": {
        "colab": {
          "base_uri": "https://localhost:8080/"
        },
        "id": "afmJFndX1liL",
        "outputId": "10fa5c5e-ffe0-4453-8720-f2ca753109d5"
      },
      "outputs": [
        {
          "name": "stdout",
          "output_type": "stream",
          "text": [
            "\u001b[1m\u001b[36m\n",
            "----------LinearSytemClassify----------\n",
            "\u001b[0m\n",
            "\u001b[1m\u001b[36m- Matriz dos coeficientes:\n",
            "\u001b[0m\n",
            "[[ 2 -1  1]\n",
            " [ 1 -1  2]\n",
            " [ 1  1  1]]\n",
            "\u001b[4m\u001b[36m                        \n",
            "\u001b[0m\n",
            "\u001b[1m\u001b[36m- O termo independente é:\n",
            "\u001b[0m\n",
            "[3 3 6]\n",
            "\u001b[4m\u001b[36m                         \n",
            "\u001b[0m\n",
            "\u001b[1m\u001b[36m- Matriz para a variavel x:\n",
            "\u001b[0m\n",
            "[[ 3 -1  1]\n",
            " [ 3 -1  2]\n",
            " [ 6  1  1]]\n",
            "\u001b[4m\u001b[36m                         \n",
            "\u001b[0m\n",
            "\u001b[1m\u001b[36m- Classificação:\n",
            "\u001b[0m\n",
            "SPD: Sistema Possivel Determinado,\n",
            " sendo sua solução:\n",
            " [1.8 2.4 1.8]\n",
            "\u001b[1m\u001b[36m\n",
            "------------------//-------------------\n",
            "\u001b[0m\n"
          ]
        }
      ],
      "source": [
        "LinearSystemClassify([[2,-1,1],[1,-1,2],[1,1,1],[3,3,6]])"
      ]
    },
    {
      "cell_type": "markdown",
      "metadata": {
        "id": "zEB5P46m14En"
      },
      "source": [
        "$$\n",
        "6.\\begin{bmatrix}\n",
        "1 & 4 & 7 \\\\\n",
        "2 & 3 & 6 \\\\\n",
        "5 & 1 & -1 \\\\\n",
        "\\end{bmatrix}.\\begin{bmatrix}\n",
        "x  \\\\\n",
        "y  \\\\\n",
        "z  \\\\\n",
        "\\end{bmatrix} = \\begin{bmatrix}\n",
        "2  \\\\\n",
        "2  \\\\\n",
        "8  \\\\\n",
        "\\end{bmatrix}\n",
        "$$"
      ]
    },
    {
      "cell_type": "code",
      "execution_count": 131,
      "metadata": {
        "colab": {
          "base_uri": "https://localhost:8080/"
        },
        "id": "P7c8Ppvi2V4l",
        "outputId": "5708045f-8801-4402-d894-eab7c1b26bd0"
      },
      "outputs": [
        {
          "name": "stdout",
          "output_type": "stream",
          "text": [
            "\u001b[1m\u001b[36m\n",
            "----------LinearSytemClassify----------\n",
            "\u001b[0m\n",
            "\u001b[1m\u001b[36m- Matriz dos coeficientes:\n",
            "\u001b[0m\n",
            "[[ 1  4  7]\n",
            " [ 2  3  6]\n",
            " [ 5  1 -1]]\n",
            "\u001b[4m\u001b[36m                        \n",
            "\u001b[0m\n",
            "\u001b[1m\u001b[36m- O termo independente é:\n",
            "\u001b[0m\n",
            "[2 2 8]\n",
            "\u001b[4m\u001b[36m                         \n",
            "\u001b[0m\n",
            "\u001b[1m\u001b[36m- Matriz para a variavel x:\n",
            "\u001b[0m\n",
            "[[ 2  4  7]\n",
            " [ 2  3  6]\n",
            " [ 8  1 -1]]\n",
            "\u001b[4m\u001b[36m                         \n",
            "\u001b[0m\n",
            "\u001b[1m\u001b[36m- Classificação:\n",
            "\u001b[0m\n",
            "SPD: Sistema Possivel Determinado,\n",
            " sendo sua solução:\n",
            " [ 1.  2. -1.]\n",
            "\u001b[1m\u001b[36m\n",
            "------------------//-------------------\n",
            "\u001b[0m\n"
          ]
        }
      ],
      "source": [
        "LinearSystemClassify([[1,4,7],[2,3,6],[5,1,-1],[2,2,8]])"
      ]
    }
  ],
  "metadata": {
    "colab": {
      "collapsed_sections": [],
      "provenance": []
    },
    "kernelspec": {
      "display_name": "Python 3.10.4 64-bit",
      "language": "python",
      "name": "python3"
    },
    "language_info": {
      "name": "python",
      "version": "3.10.4"
    },
    "vscode": {
      "interpreter": {
        "hash": "aee8b7b246df8f9039afb4144a1f6fd8d2ca17a180786b69acc140d282b71a49"
      }
    }
  },
  "nbformat": 4,
  "nbformat_minor": 0
}
